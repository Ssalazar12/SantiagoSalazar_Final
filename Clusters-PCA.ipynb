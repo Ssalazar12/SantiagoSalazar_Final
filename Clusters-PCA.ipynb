{
 "cells": [
  {
   "cell_type": "markdown",
   "metadata": {},
   "source": [
    "# Unsupervised analytics of kagglers in 2018\n",
    "\n",
    "On this small notebook, I going to attempt to analyse the kaggle 2018 survey data without presuppositions. In order to do this I will attempt to create my own \"dummy labels\" through k-means clustering, then apply some suppervised learning algorithms. I refer to these labels as \"dummy labels\" because in this case, the classification capabilities of the models will not be as relevant as the statistical structures found after training them in the data. The labels exists solely as a token ofr the model to latch on to during training. "
   ]
  },
  {
   "cell_type": "code",
   "execution_count": 1,
   "metadata": {},
   "outputs": [],
   "source": [
    "import pandas as pd\n",
    "import numpy as np\n",
    "import matplotlib.pyplot as plt\n",
    "from sklearn.cluster import KMeans\n",
    "from sklearn import preprocessing\n",
    "from sklearn.decomposition import PCA\n",
    "from sklearn.svm import SVC\n",
    "from sklearn.preprocessing import MinMaxScaler\n",
    "from sklearn.model_selection import KFold\n",
    "from sklearn.metrics import confusion_matrix\n",
    "\n",
    "\n"
   ]
  },
  {
   "cell_type": "markdown",
   "metadata": {},
   "source": [
    "## Preprocessing the data\n",
    "\n",
    "Let's import the data set corresponding to multiple choice questions:"
   ]
  },
  {
   "cell_type": "code",
   "execution_count": 2,
   "metadata": {
    "scrolled": true
   },
   "outputs": [
    {
     "name": "stderr",
     "output_type": "stream",
     "text": [
      "/Users/rasputin/anaconda3/lib/python3.6/site-packages/IPython/core/interactiveshell.py:2785: DtypeWarning: Columns (0,2,8,10,21,23,24,25,26,27,28,44,56,64,83,85,87,107,109,123,125,150,157,172,174,194,210,218,219,223,246,249,262,264,276,277,278,279,280,281,282,283,284,285,286,287,288,289,290,304,306,325,326,329,341,368,371,384,385,389,390,391,393,394) have mixed types. Specify dtype option on import or set low_memory=False.\n",
      "  interactivity=interactivity, compiler=compiler, result=result)\n"
     ]
    }
   ],
   "source": [
    "multiplec = pd.read_csv('multipleChoiceResponses.csv')\n"
   ]
  },
  {
   "cell_type": "code",
   "execution_count": 3,
   "metadata": {},
   "outputs": [
    {
     "data": {
      "text/plain": [
       "Index(['Time from Start to Finish (seconds)', 'Q1', 'Q2', 'Q3', 'Q4', 'Q5',\n",
       "       'Q6', 'Q7', 'Q8', 'Q9',\n",
       "       ...\n",
       "       'Q49_Part_11', 'Q49_Part_12', 'Q50_Part_1', 'Q50_Part_2', 'Q50_Part_3',\n",
       "       'Q50_Part_4', 'Q50_Part_5', 'Q50_Part_6', 'Q50_Part_7', 'Q50_Part_8'],\n",
       "      dtype='object', length=363)"
      ]
     },
     "execution_count": 3,
     "metadata": {},
     "output_type": "execute_result"
    }
   ],
   "source": [
    "mkeys=multiplec.keys()\n",
    "#excludes the columns corresponding to text explaining\n",
    "multiplec=multiplec.drop([ mkeys[2], mkeys[8], mkeys[10],mkeys[23], mkeys[24], mkeys[25],mkeys[26], mkeys[44], mkeys[56], mkeys[64], mkeys[83], mkeys[85], \n",
    "                       mkeys[87], mkeys[107], mkeys[109], mkeys[123],mkeys[125], mkeys[150], \n",
    "                          mkeys[194], mkeys[223], mkeys[249],mkeys[262], mkeys[264],mkeys[276],\n",
    "                      mkeys[304],mkeys[306], mkeys[329], mkeys[341], mkeys[371], mkeys[385], mkeys[394],mkeys[283]],axis=1)\n",
    "multiplec.keys()"
   ]
  },
  {
   "cell_type": "code",
   "execution_count": 4,
   "metadata": {},
   "outputs": [],
   "source": [
    "multi2=multiplec.iloc[1:,:]\n"
   ]
  },
  {
   "cell_type": "markdown",
   "metadata": {},
   "source": [
    "Now, because many of the features are cathegorical, it is necesary to encode them before sending them to an algorithm. One-hot enconding is a feasible choice, since it does not create unwanted order in the data. It is also important to scale the column \"Time from start to finish (seconds)\", to match the 0-1 interval of the rest of the data. To deal with missing values, they will be replaced by -1."
   ]
  },
  {
   "cell_type": "code",
   "execution_count": 5,
   "metadata": {},
   "outputs": [],
   "source": [
    "#since the first column is actually composed of integers, we do not include it in the encoding\n",
    "obj_df = multi2.select_dtypes(include=['object']).copy()\n",
    "obj_df = obj_df.drop(mkeys[0],axis=1)"
   ]
  },
  {
   "cell_type": "code",
   "execution_count": 6,
   "metadata": {},
   "outputs": [
    {
     "data": {
      "text/plain": [
       "(23859, 4404)"
      ]
     },
     "execution_count": 6,
     "metadata": {},
     "output_type": "execute_result"
    }
   ],
   "source": [
    "#One-Hot encoding using pandas\n",
    "obj_df=pd.get_dummies(obj_df)\n",
    "np.shape(obj_df)"
   ]
  },
  {
   "cell_type": "code",
   "execution_count": 7,
   "metadata": {},
   "outputs": [],
   "source": [
    "#scaling the time column\n",
    "x = multi2.iloc[:,0].values.astype(float) \n",
    "min_max_scaler = preprocessing.MinMaxScaler()\n",
    "x_scaled = min_max_scaler.fit_transform(x.reshape(-1,1))\n",
    "df_scaled = pd.DataFrame(x_scaled,columns=['Time from Start to Finish (seconds)'])\n",
    "#adjusting the indices\n",
    "df_scaled.index+=1"
   ]
  },
  {
   "cell_type": "code",
   "execution_count": 8,
   "metadata": {},
   "outputs": [
    {
     "name": "stdout",
     "output_type": "stream",
     "text": [
      "(23859, 4405)\n"
     ]
    },
    {
     "data": {
      "text/html": [
       "<div>\n",
       "<style scoped>\n",
       "    .dataframe tbody tr th:only-of-type {\n",
       "        vertical-align: middle;\n",
       "    }\n",
       "\n",
       "    .dataframe tbody tr th {\n",
       "        vertical-align: top;\n",
       "    }\n",
       "\n",
       "    .dataframe thead th {\n",
       "        text-align: right;\n",
       "    }\n",
       "</style>\n",
       "<table border=\"1\" class=\"dataframe\">\n",
       "  <thead>\n",
       "    <tr style=\"text-align: right;\">\n",
       "      <th></th>\n",
       "      <th>Time from Start to Finish (seconds)</th>\n",
       "      <th>Q1_Female</th>\n",
       "      <th>Q1_Male</th>\n",
       "      <th>Q1_Prefer not to say</th>\n",
       "      <th>Q1_Prefer to self-describe</th>\n",
       "      <th>Q2_18-21</th>\n",
       "      <th>Q2_22-24</th>\n",
       "      <th>Q2_25-29</th>\n",
       "      <th>Q2_30-34</th>\n",
       "      <th>Q2_35-39</th>\n",
       "      <th>...</th>\n",
       "      <th>Q49_Part_11_None/I do not make my work easy for others to reproduce</th>\n",
       "      <th>Q49_Part_12_Other</th>\n",
       "      <th>Q50_Part_1_Too expensive</th>\n",
       "      <th>Q50_Part_2_Too time-consuming</th>\n",
       "      <th>Q50_Part_3_Requires too much technical knowledge</th>\n",
       "      <th>Q50_Part_4_Afraid that others will use my work without giving proper credit</th>\n",
       "      <th>Q50_Part_5_Not enough incentives to share my work</th>\n",
       "      <th>Q50_Part_6_I had never considered making my work easier for others to reproduce</th>\n",
       "      <th>Q50_Part_7_None of these reasons apply to me</th>\n",
       "      <th>Q50_Part_8_Other</th>\n",
       "    </tr>\n",
       "  </thead>\n",
       "  <tbody>\n",
       "    <tr>\n",
       "      <th>1</th>\n",
       "      <td>0.000784</td>\n",
       "      <td>1</td>\n",
       "      <td>0</td>\n",
       "      <td>0</td>\n",
       "      <td>0</td>\n",
       "      <td>0</td>\n",
       "      <td>0</td>\n",
       "      <td>0</td>\n",
       "      <td>0</td>\n",
       "      <td>0</td>\n",
       "      <td>...</td>\n",
       "      <td>0</td>\n",
       "      <td>0</td>\n",
       "      <td>0</td>\n",
       "      <td>0</td>\n",
       "      <td>0</td>\n",
       "      <td>0</td>\n",
       "      <td>0</td>\n",
       "      <td>0</td>\n",
       "      <td>0</td>\n",
       "      <td>0</td>\n",
       "    </tr>\n",
       "    <tr>\n",
       "      <th>2</th>\n",
       "      <td>0.000472</td>\n",
       "      <td>0</td>\n",
       "      <td>1</td>\n",
       "      <td>0</td>\n",
       "      <td>0</td>\n",
       "      <td>0</td>\n",
       "      <td>0</td>\n",
       "      <td>0</td>\n",
       "      <td>1</td>\n",
       "      <td>0</td>\n",
       "      <td>...</td>\n",
       "      <td>0</td>\n",
       "      <td>0</td>\n",
       "      <td>0</td>\n",
       "      <td>0</td>\n",
       "      <td>0</td>\n",
       "      <td>0</td>\n",
       "      <td>0</td>\n",
       "      <td>0</td>\n",
       "      <td>0</td>\n",
       "      <td>0</td>\n",
       "    </tr>\n",
       "    <tr>\n",
       "      <th>3</th>\n",
       "      <td>0.000793</td>\n",
       "      <td>1</td>\n",
       "      <td>0</td>\n",
       "      <td>0</td>\n",
       "      <td>0</td>\n",
       "      <td>0</td>\n",
       "      <td>0</td>\n",
       "      <td>0</td>\n",
       "      <td>1</td>\n",
       "      <td>0</td>\n",
       "      <td>...</td>\n",
       "      <td>0</td>\n",
       "      <td>0</td>\n",
       "      <td>0</td>\n",
       "      <td>1</td>\n",
       "      <td>0</td>\n",
       "      <td>0</td>\n",
       "      <td>0</td>\n",
       "      <td>0</td>\n",
       "      <td>0</td>\n",
       "      <td>0</td>\n",
       "    </tr>\n",
       "    <tr>\n",
       "      <th>4</th>\n",
       "      <td>0.000683</td>\n",
       "      <td>0</td>\n",
       "      <td>1</td>\n",
       "      <td>0</td>\n",
       "      <td>0</td>\n",
       "      <td>0</td>\n",
       "      <td>0</td>\n",
       "      <td>0</td>\n",
       "      <td>0</td>\n",
       "      <td>1</td>\n",
       "      <td>...</td>\n",
       "      <td>0</td>\n",
       "      <td>0</td>\n",
       "      <td>0</td>\n",
       "      <td>0</td>\n",
       "      <td>1</td>\n",
       "      <td>0</td>\n",
       "      <td>1</td>\n",
       "      <td>0</td>\n",
       "      <td>0</td>\n",
       "      <td>0</td>\n",
       "    </tr>\n",
       "    <tr>\n",
       "      <th>5</th>\n",
       "      <td>0.000807</td>\n",
       "      <td>0</td>\n",
       "      <td>1</td>\n",
       "      <td>0</td>\n",
       "      <td>0</td>\n",
       "      <td>0</td>\n",
       "      <td>1</td>\n",
       "      <td>0</td>\n",
       "      <td>0</td>\n",
       "      <td>0</td>\n",
       "      <td>...</td>\n",
       "      <td>0</td>\n",
       "      <td>0</td>\n",
       "      <td>0</td>\n",
       "      <td>1</td>\n",
       "      <td>0</td>\n",
       "      <td>0</td>\n",
       "      <td>1</td>\n",
       "      <td>0</td>\n",
       "      <td>0</td>\n",
       "      <td>0</td>\n",
       "    </tr>\n",
       "  </tbody>\n",
       "</table>\n",
       "<p>5 rows × 4405 columns</p>\n",
       "</div>"
      ],
      "text/plain": [
       "   Time from Start to Finish (seconds)  Q1_Female  Q1_Male  \\\n",
       "1                             0.000784          1        0   \n",
       "2                             0.000472          0        1   \n",
       "3                             0.000793          1        0   \n",
       "4                             0.000683          0        1   \n",
       "5                             0.000807          0        1   \n",
       "\n",
       "   Q1_Prefer not to say  Q1_Prefer to self-describe  Q2_18-21  Q2_22-24  \\\n",
       "1                     0                           0         0         0   \n",
       "2                     0                           0         0         0   \n",
       "3                     0                           0         0         0   \n",
       "4                     0                           0         0         0   \n",
       "5                     0                           0         0         1   \n",
       "\n",
       "   Q2_25-29  Q2_30-34  Q2_35-39        ...         \\\n",
       "1         0         0         0        ...          \n",
       "2         0         1         0        ...          \n",
       "3         0         1         0        ...          \n",
       "4         0         0         1        ...          \n",
       "5         0         0         0        ...          \n",
       "\n",
       "   Q49_Part_11_None/I do not make my work easy for others to reproduce  \\\n",
       "1                                                  0                     \n",
       "2                                                  0                     \n",
       "3                                                  0                     \n",
       "4                                                  0                     \n",
       "5                                                  0                     \n",
       "\n",
       "   Q49_Part_12_Other  Q50_Part_1_Too expensive  Q50_Part_2_Too time-consuming  \\\n",
       "1                  0                         0                              0   \n",
       "2                  0                         0                              0   \n",
       "3                  0                         0                              1   \n",
       "4                  0                         0                              0   \n",
       "5                  0                         0                              1   \n",
       "\n",
       "   Q50_Part_3_Requires too much technical knowledge  \\\n",
       "1                                                 0   \n",
       "2                                                 0   \n",
       "3                                                 0   \n",
       "4                                                 1   \n",
       "5                                                 0   \n",
       "\n",
       "   Q50_Part_4_Afraid that others will use my work without giving proper credit  \\\n",
       "1                                                  0                             \n",
       "2                                                  0                             \n",
       "3                                                  0                             \n",
       "4                                                  0                             \n",
       "5                                                  0                             \n",
       "\n",
       "   Q50_Part_5_Not enough incentives to share my work  \\\n",
       "1                                                  0   \n",
       "2                                                  0   \n",
       "3                                                  0   \n",
       "4                                                  1   \n",
       "5                                                  1   \n",
       "\n",
       "   Q50_Part_6_I had never considered making my work easier for others to reproduce  \\\n",
       "1                                                  0                                 \n",
       "2                                                  0                                 \n",
       "3                                                  0                                 \n",
       "4                                                  0                                 \n",
       "5                                                  0                                 \n",
       "\n",
       "   Q50_Part_7_None of these reasons apply to me  Q50_Part_8_Other  \n",
       "1                                             0                 0  \n",
       "2                                             0                 0  \n",
       "3                                             0                 0  \n",
       "4                                             0                 0  \n",
       "5                                             0                 0  \n",
       "\n",
       "[5 rows x 4405 columns]"
      ]
     },
     "execution_count": 8,
     "metadata": {},
     "output_type": "execute_result"
    }
   ],
   "source": [
    "#Creating our encoded data frame\n",
    "encoded_data = pd.concat([df_scaled,obj_df,multi2.select_dtypes(exclude=['object']).copy()],axis=1)\n",
    "print(np.shape(encoded_data))\n",
    "encoded_data.head()"
   ]
  },
  {
   "cell_type": "code",
   "execution_count": 9,
   "metadata": {},
   "outputs": [],
   "source": [
    "#changes nan values two -1\n",
    "encoded_data = encoded_data.fillna(value=-1)\n",
    "enc_keys=encoded_data.keys()"
   ]
  },
  {
   "cell_type": "markdown",
   "metadata": {},
   "source": [
    "## Unsupervised Learning\n",
    "\n",
    "One-hot encoding has created a data matrix with 4405 columns. In order to reduce computing time in k-menas, PCA is used to find a low dimentional representation of the data."
   ]
  },
  {
   "cell_type": "code",
   "execution_count": 10,
   "metadata": {},
   "outputs": [
    {
     "name": "stdout",
     "output_type": "stream",
     "text": [
      "First eigen-vector var fraction: 0.4304887617002818  second var 0.10419073483807538\n"
     ]
    },
    {
     "data": {
      "image/png": "[encoded data removed]",
      "text/plain": [
       "<Figure size 432x288 with 1 Axes>"
      ]
     },
     "metadata": {},
     "output_type": "display_data"
    }
   ],
   "source": [
    "#pca to reduce dimentionality\n",
    "pca = PCA(n_components=10)\n",
    "pca.fit(encoded_data)\n",
    "var=pca.explained_variance_\n",
    "n_com=np.linspace(1,10,10)\n",
    "plt.scatter(n_com,var/np.sum(var),marker='x')\n",
    "plt.xlabel('Eigenvectors')\n",
    "plt.ylabel('Variance')\n",
    "print('First eigen-vector var fraction:', var[0]/np.sum(var), ' second var', var[1]/np.sum(var))\n",
    "data_proj= pca.transform(encoded_data)"
   ]
  },
  {
   "cell_type": "markdown",
   "metadata": {},
   "source": [
    "Now, using the projected data set data_proj we are going to attempt and create some clusters. Using \n",
    "the elbow method, we can determine that 2 clusters are a good starting point. These two clusters are then plotted, with their respective centroids. "
   ]
  },
  {
   "cell_type": "code",
   "execution_count": 11,
   "metadata": {},
   "outputs": [
    {
     "data": {
      "image/png": "[encoded data removed]",
      "text/plain": [
       "<Figure size 432x288 with 1 Axes>"
      ]
     },
     "metadata": {},
     "output_type": "display_data"
    }
   ],
   "source": [
    "#mean inertia for the clusters formed\n",
    "inert = []\n",
    "#elbow method\n",
    "for i in range(1,11):\n",
    "    kmeans = KMeans(n_clusters=i,init='k-means++',max_iter=500,n_init=10)\n",
    "    kmeans.fit(data_proj)\n",
    "    inert.append(kmeans.inertia_)\n",
    "plt.plot(range(1,11),inert)\n",
    "plt.title('Elbow Method')\n",
    "plt.xlabel('Number of clusters')\n",
    "plt.ylabel('Inertia')\n",
    "plt.show()"
   ]
  },
  {
   "cell_type": "code",
   "execution_count": 12,
   "metadata": {},
   "outputs": [
    {
     "data": {
      "text/plain": [
       "Text(0.5,1,'Clusters')"
      ]
     },
     "execution_count": 12,
     "metadata": {},
     "output_type": "execute_result"
    },
    {
     "data": {
      "image/png": "[encoded data removed]",
      "text/plain": [
       "<Figure size 432x288 with 1 Axes>"
      ]
     },
     "metadata": {},
     "output_type": "display_data"
    }
   ],
   "source": [
    "#looking at the 2 cluster case\n",
    "n_c=2\n",
    "kmeans_pca = KMeans(n_clusters=n_c,init='k-means++',max_iter=500,n_init=10,random_state=0) \n",
    "clus_index = kmeans_pca.fit_predict(data_proj) #saves the cluster labels in the positions of each observation\n",
    "\n",
    "#Scatter plots of the projections over the first two principal components\n",
    "for i in range(0,n_c):\n",
    "    plt.scatter(np.asarray(data_proj)[clus_index == i, 0], np.asarray(data_proj)[clus_index == i,1], alpha=0.7)\n",
    "\n",
    "plt.scatter(kmeans_pca.cluster_centers_[:,0], kmeans_pca.cluster_centers_[:,1],marker='x',s=100,c='black')\n",
    "plt.xlabel('First Principal Component')\n",
    "plt.ylabel('Second Principal Component')\n",
    "\n",
    "plt.title('Clusters')\n"
   ]
  },
  {
   "cell_type": "markdown",
   "metadata": {},
   "source": [
    "## Cluster Characterization \n",
    "\n",
    "In order to find the relevant features for each cluster, we are going to use a SVM with linear kernel. This model\n",
    "uses the cluster labels to find the probability of an observation belonging to either class. Since, the kernel is linear, the absolute values of the coeficients can be threated as meassure of feature relevancy."
   ]
  },
  {
   "cell_type": "code",
   "execution_count": 13,
   "metadata": {},
   "outputs": [],
   "source": [
    "\n",
    "def get_feat(cl_num,cl_index):\n",
    "    #Creates a bar plot that show the coefficients associated with the 40 most relevant features that the\n",
    "    #SVM learns \n",
    "    #cl_num: the current cluster label\n",
    "    #cl_index: an array containing the cluster labels obtained from k-means\n",
    "    print(1)\n",
    "    labels=np.zeros(len(cl_index))\n",
    "#gets positions of the zero cluster members\n",
    "    ii=np.where(cl_index==cl_num)\n",
    "    labels[ii]=1\n",
    "    labels=pd.DataFrame(labels)\n",
    "    supp = SVC(kernel='linear')\n",
    "    supp.fit(encoded_data,np.ravel(labels))\n",
    "    print(2)\n",
    "    \n",
    "    coef=(abs(supp.coef_.ravel()))\n",
    "#The coefficients returned correspond to the features, thus the largest coeficients \n",
    "#show the most important features. We can take a look at the first 20 coeficients\n",
    "    top_coef= np.argsort(coef)[-40:]\n",
    "    feature_names=encoded_data.keys()[top_coef]\n",
    "    #creates plots\n",
    "    plt.figure(figsize=(13,13))\n",
    "    plt.barh(range(len(feature_names)), coef[top_coef], align='center')\n",
    "    plt.yticks(range(len(feature_names)), feature_names)\n",
    "    \n",
    "    plt.savefig(str(cl_num)+'.pdf')\n",
    "    \n",
    "    print('The most relevant feature is: ', encoded_data.keys()[top_coef][-1])\n",
    "    \n",
    "    return supp, labels, feature_names\n",
    "\n",
    "\n",
    "def K_fold(clf,K,X,Y):\n",
    "    #in case we need to test our model accuracy\n",
    "    #clf: the trained model\n",
    "    #K: subdivisions of the training data\n",
    "    #X: features\n",
    "\n",
    "    print('ya')\n",
    "    kf = KFold(n_splits=K)\n",
    "    lin_model = clf\n",
    "\n",
    "    #using the confusion matrix\n",
    "    lin_ERR = []\n",
    "    l_pre=[]\n",
    "    l_rec=[]\n",
    "    print('ya2')\n",
    "\n",
    "    for train_index, test_index in kf.split(X):\n",
    "        print(1)\n",
    "        xk_train, xk_test = X.iloc[train_index], X.iloc[test_index]\n",
    "        print(2)\n",
    "        yk_train, yk_test = Y.iloc[train_index], Y.iloc[test_index]\n",
    "        print(3)\n",
    "        lin_model.fit(xk_train, yk_train)\n",
    "        print(4)\n",
    "        lin_pred=lin_model.predict(xk_test)\n",
    "        print(5)\n",
    "        lin_conf=confusion_matrix(yk_test,lin_pred)\n",
    "        \n",
    "        #precision recal and f1 values\n",
    "        l_pre.append(lin_conf[1,1]/(lin_conf[1,1]+lin_conf[0,1]))\n",
    "        l_rec.append(lin_conf[1,1]/(lin_conf[1,1]+lin_conf[1,0]))\n",
    "\n",
    "\n",
    "        lin_ERR.append((lin_conf[0,1]+lin_conf[1,0])/np.sum(lin_conf))\n",
    "        \n",
    "    return np.mean(lin_ERR), np.mean(l_pre), np.mean(l_rec)"
   ]
  },
  {
   "cell_type": "code",
   "execution_count": 14,
   "metadata": {},
   "outputs": [
    {
     "name": "stdout",
     "output_type": "stream",
     "text": [
      "1\n",
      "2\n",
      "The most relevant feature is:  Q41_Part_3_Very important\n"
     ]
    },
    {
     "data": {
      "image/png": "[encoded data removed]",
      "text/plain": [
       "<Figure size 936x936 with 1 Axes>"
      ]
     },
     "metadata": {},
     "output_type": "display_data"
    }
   ],
   "source": [
    "#bar plot for cluster 0\n",
    "model1, lab1, feat1 =get_feat(0,clus_index)"
   ]
  },
  {
   "cell_type": "code",
   "execution_count": 15,
   "metadata": {},
   "outputs": [],
   "source": [
    "#error, prec, rec = K_fold(model_used,3, encoded_data, labs)"
   ]
  },
  {
   "cell_type": "markdown",
   "metadata": {},
   "source": [
    "## Identifying relevant features\n",
    "\n",
    "The bar plot shown above show the top 40 features that an SVM model learns, in order to classify the data in either \n",
    "of the two clusters. The most relevant feature relates to the question \"Is reproducibility important in ML\". More specifically, the coice \"It is very important\". Using this top 40 features we are going to go back to the un-encoded set and create a reduced data set for each cluster.\n"
   ]
  },
  {
   "cell_type": "code",
   "execution_count": 17,
   "metadata": {},
   "outputs": [
    {
     "data": {
      "text/html": [
       "<div>\n",
       "<style scoped>\n",
       "    .dataframe tbody tr th:only-of-type {\n",
       "        vertical-align: middle;\n",
       "    }\n",
       "\n",
       "    .dataframe tbody tr th {\n",
       "        vertical-align: top;\n",
       "    }\n",
       "\n",
       "    .dataframe thead th {\n",
       "        text-align: right;\n",
       "    }\n",
       "</style>\n",
       "<table border=\"1\" class=\"dataframe\">\n",
       "  <thead>\n",
       "    <tr style=\"text-align: right;\">\n",
       "      <th></th>\n",
       "      <th>Q13_Part_2_RStudio</th>\n",
       "      <th>Q21_Part_1_ggplot2</th>\n",
       "      <th>Q31_Part_5_Image Data</th>\n",
       "      <th>Q11_Part_1_Analyze and understand data to influence product or business decisions</th>\n",
       "      <th>Q38_Part_18_Medium Blog Posts</th>\n",
       "      <th>Q45_Part_5_When first exploring a new ML model or dataset</th>\n",
       "      <th>Q44_Part_2_Difficulty in identifying groups that are unfairly targeted</th>\n",
       "      <th>Q49_Part_8_Define all random seeds</th>\n",
       "      <th>Q49_Part_1_Share code on Github or a similar code-sharing repository</th>\n",
       "      <th>Q47_Part_4_Plot decision boundaries</th>\n",
       "      <th>...</th>\n",
       "      <th>Q31_Part_9_Text Data</th>\n",
       "      <th>Q35_Part_6_0.0</th>\n",
       "      <th>Q35_Part_6_0.0</th>\n",
       "      <th>Q19_Part_1_Scikit-Learn</th>\n",
       "      <th>Q47_Part_8_Plot predicted vs. actual results</th>\n",
       "      <th>Q41_Part_2_Very important</th>\n",
       "      <th>Q13_Part_1_Jupyter/IPython</th>\n",
       "      <th>Q21_Part_2_Matplotlib</th>\n",
       "      <th>Q49_Part_7_Make sure the code is human-readable</th>\n",
       "      <th>Q41_Part_3_Very important</th>\n",
       "    </tr>\n",
       "  </thead>\n",
       "  <tbody>\n",
       "    <tr>\n",
       "      <th>1</th>\n",
       "      <td>0</td>\n",
       "      <td>0</td>\n",
       "      <td>0</td>\n",
       "      <td>1</td>\n",
       "      <td>0</td>\n",
       "      <td>0</td>\n",
       "      <td>0</td>\n",
       "      <td>0</td>\n",
       "      <td>0</td>\n",
       "      <td>0</td>\n",
       "      <td>...</td>\n",
       "      <td>0</td>\n",
       "      <td>0</td>\n",
       "      <td>0</td>\n",
       "      <td>0</td>\n",
       "      <td>0</td>\n",
       "      <td>0</td>\n",
       "      <td>1</td>\n",
       "      <td>1</td>\n",
       "      <td>0</td>\n",
       "      <td>0</td>\n",
       "    </tr>\n",
       "    <tr>\n",
       "      <th>2</th>\n",
       "      <td>0</td>\n",
       "      <td>0</td>\n",
       "      <td>0</td>\n",
       "      <td>0</td>\n",
       "      <td>0</td>\n",
       "      <td>0</td>\n",
       "      <td>0</td>\n",
       "      <td>0</td>\n",
       "      <td>0</td>\n",
       "      <td>0</td>\n",
       "      <td>...</td>\n",
       "      <td>0</td>\n",
       "      <td>0</td>\n",
       "      <td>0</td>\n",
       "      <td>0</td>\n",
       "      <td>0</td>\n",
       "      <td>0</td>\n",
       "      <td>0</td>\n",
       "      <td>0</td>\n",
       "      <td>0</td>\n",
       "      <td>0</td>\n",
       "    </tr>\n",
       "    <tr>\n",
       "      <th>5</th>\n",
       "      <td>1</td>\n",
       "      <td>0</td>\n",
       "      <td>0</td>\n",
       "      <td>0</td>\n",
       "      <td>0</td>\n",
       "      <td>0</td>\n",
       "      <td>0</td>\n",
       "      <td>0</td>\n",
       "      <td>0</td>\n",
       "      <td>0</td>\n",
       "      <td>...</td>\n",
       "      <td>0</td>\n",
       "      <td>0</td>\n",
       "      <td>0</td>\n",
       "      <td>0</td>\n",
       "      <td>0</td>\n",
       "      <td>0</td>\n",
       "      <td>0</td>\n",
       "      <td>0</td>\n",
       "      <td>0</td>\n",
       "      <td>1</td>\n",
       "    </tr>\n",
       "    <tr>\n",
       "      <th>7</th>\n",
       "      <td>1</td>\n",
       "      <td>0</td>\n",
       "      <td>0</td>\n",
       "      <td>0</td>\n",
       "      <td>0</td>\n",
       "      <td>0</td>\n",
       "      <td>0</td>\n",
       "      <td>1</td>\n",
       "      <td>1</td>\n",
       "      <td>0</td>\n",
       "      <td>...</td>\n",
       "      <td>1</td>\n",
       "      <td>0</td>\n",
       "      <td>0</td>\n",
       "      <td>0</td>\n",
       "      <td>0</td>\n",
       "      <td>0</td>\n",
       "      <td>0</td>\n",
       "      <td>0</td>\n",
       "      <td>0</td>\n",
       "      <td>1</td>\n",
       "    </tr>\n",
       "    <tr>\n",
       "      <th>9</th>\n",
       "      <td>0</td>\n",
       "      <td>0</td>\n",
       "      <td>0</td>\n",
       "      <td>0</td>\n",
       "      <td>0</td>\n",
       "      <td>0</td>\n",
       "      <td>0</td>\n",
       "      <td>0</td>\n",
       "      <td>0</td>\n",
       "      <td>0</td>\n",
       "      <td>...</td>\n",
       "      <td>0</td>\n",
       "      <td>0</td>\n",
       "      <td>0</td>\n",
       "      <td>1</td>\n",
       "      <td>0</td>\n",
       "      <td>0</td>\n",
       "      <td>1</td>\n",
       "      <td>1</td>\n",
       "      <td>0</td>\n",
       "      <td>0</td>\n",
       "    </tr>\n",
       "  </tbody>\n",
       "</table>\n",
       "<p>5 rows × 42 columns</p>\n",
       "</div>"
      ],
      "text/plain": [
       "   Q13_Part_2_RStudio  Q21_Part_1_ggplot2  Q31_Part_5_Image Data  \\\n",
       "1                   0                   0                      0   \n",
       "2                   0                   0                      0   \n",
       "5                   1                   0                      0   \n",
       "7                   1                   0                      0   \n",
       "9                   0                   0                      0   \n",
       "\n",
       "   Q11_Part_1_Analyze and understand data to influence product or business decisions  \\\n",
       "1                                                  1                                   \n",
       "2                                                  0                                   \n",
       "5                                                  0                                   \n",
       "7                                                  0                                   \n",
       "9                                                  0                                   \n",
       "\n",
       "   Q38_Part_18_Medium Blog Posts  \\\n",
       "1                              0   \n",
       "2                              0   \n",
       "5                              0   \n",
       "7                              0   \n",
       "9                              0   \n",
       "\n",
       "   Q45_Part_5_When first exploring a new ML model or dataset  \\\n",
       "1                                                  0           \n",
       "2                                                  0           \n",
       "5                                                  0           \n",
       "7                                                  0           \n",
       "9                                                  0           \n",
       "\n",
       "   Q44_Part_2_Difficulty in identifying groups that are unfairly targeted  \\\n",
       "1                                                  0                        \n",
       "2                                                  0                        \n",
       "5                                                  0                        \n",
       "7                                                  0                        \n",
       "9                                                  0                        \n",
       "\n",
       "   Q49_Part_8_Define all random seeds  \\\n",
       "1                                   0   \n",
       "2                                   0   \n",
       "5                                   0   \n",
       "7                                   1   \n",
       "9                                   0   \n",
       "\n",
       "   Q49_Part_1_Share code on Github or a similar code-sharing repository  \\\n",
       "1                                                  0                      \n",
       "2                                                  0                      \n",
       "5                                                  0                      \n",
       "7                                                  1                      \n",
       "9                                                  0                      \n",
       "\n",
       "   Q47_Part_4_Plot decision boundaries            ...              \\\n",
       "1                                    0            ...               \n",
       "2                                    0            ...               \n",
       "5                                    0            ...               \n",
       "7                                    0            ...               \n",
       "9                                    0            ...               \n",
       "\n",
       "   Q31_Part_9_Text Data  Q35_Part_6_0.0  Q35_Part_6_0.0  \\\n",
       "1                     0               0               0   \n",
       "2                     0               0               0   \n",
       "5                     0               0               0   \n",
       "7                     1               0               0   \n",
       "9                     0               0               0   \n",
       "\n",
       "   Q19_Part_1_Scikit-Learn  Q47_Part_8_Plot predicted vs. actual results  \\\n",
       "1                        0                                             0   \n",
       "2                        0                                             0   \n",
       "5                        0                                             0   \n",
       "7                        0                                             0   \n",
       "9                        1                                             0   \n",
       "\n",
       "   Q41_Part_2_Very important  Q13_Part_1_Jupyter/IPython  \\\n",
       "1                          0                           1   \n",
       "2                          0                           0   \n",
       "5                          0                           0   \n",
       "7                          0                           0   \n",
       "9                          0                           1   \n",
       "\n",
       "   Q21_Part_2_Matplotlib  Q49_Part_7_Make sure the code is human-readable  \\\n",
       "1                      1                                                0   \n",
       "2                      0                                                0   \n",
       "5                      0                                                0   \n",
       "7                      0                                                0   \n",
       "9                      1                                                0   \n",
       "\n",
       "   Q41_Part_3_Very important  \n",
       "1                          0  \n",
       "2                          0  \n",
       "5                          1  \n",
       "7                          1  \n",
       "9                          0  \n",
       "\n",
       "[5 rows x 42 columns]"
      ]
     },
     "execution_count": 17,
     "metadata": {},
     "output_type": "execute_result"
    }
   ],
   "source": [
    "cluster0=encoded_data.iloc[clus_index==0][feat1]\n",
    "cluster0.head()"
   ]
  },
  {
   "cell_type": "code",
   "execution_count": 18,
   "metadata": {},
   "outputs": [
    {
     "data": {
      "text/html": [
       "<div>\n",
       "<style scoped>\n",
       "    .dataframe tbody tr th:only-of-type {\n",
       "        vertical-align: middle;\n",
       "    }\n",
       "\n",
       "    .dataframe tbody tr th {\n",
       "        vertical-align: top;\n",
       "    }\n",
       "\n",
       "    .dataframe thead th {\n",
       "        text-align: right;\n",
       "    }\n",
       "</style>\n",
       "<table border=\"1\" class=\"dataframe\">\n",
       "  <thead>\n",
       "    <tr style=\"text-align: right;\">\n",
       "      <th></th>\n",
       "      <th>Q13_Part_2_RStudio</th>\n",
       "      <th>Q21_Part_1_ggplot2</th>\n",
       "      <th>Q31_Part_5_Image Data</th>\n",
       "      <th>Q11_Part_1_Analyze and understand data to influence product or business decisions</th>\n",
       "      <th>Q38_Part_18_Medium Blog Posts</th>\n",
       "      <th>Q45_Part_5_When first exploring a new ML model or dataset</th>\n",
       "      <th>Q44_Part_2_Difficulty in identifying groups that are unfairly targeted</th>\n",
       "      <th>Q49_Part_8_Define all random seeds</th>\n",
       "      <th>Q49_Part_1_Share code on Github or a similar code-sharing repository</th>\n",
       "      <th>Q47_Part_4_Plot decision boundaries</th>\n",
       "      <th>...</th>\n",
       "      <th>Q31_Part_9_Text Data</th>\n",
       "      <th>Q35_Part_6_0.0</th>\n",
       "      <th>Q35_Part_6_0.0</th>\n",
       "      <th>Q19_Part_1_Scikit-Learn</th>\n",
       "      <th>Q47_Part_8_Plot predicted vs. actual results</th>\n",
       "      <th>Q41_Part_2_Very important</th>\n",
       "      <th>Q13_Part_1_Jupyter/IPython</th>\n",
       "      <th>Q21_Part_2_Matplotlib</th>\n",
       "      <th>Q49_Part_7_Make sure the code is human-readable</th>\n",
       "      <th>Q41_Part_3_Very important</th>\n",
       "    </tr>\n",
       "  </thead>\n",
       "  <tbody>\n",
       "    <tr>\n",
       "      <th>3</th>\n",
       "      <td>0</td>\n",
       "      <td>1</td>\n",
       "      <td>0</td>\n",
       "      <td>1</td>\n",
       "      <td>0</td>\n",
       "      <td>0</td>\n",
       "      <td>0</td>\n",
       "      <td>1</td>\n",
       "      <td>0</td>\n",
       "      <td>0</td>\n",
       "      <td>...</td>\n",
       "      <td>1</td>\n",
       "      <td>0</td>\n",
       "      <td>0</td>\n",
       "      <td>0</td>\n",
       "      <td>1</td>\n",
       "      <td>1</td>\n",
       "      <td>0</td>\n",
       "      <td>1</td>\n",
       "      <td>1</td>\n",
       "      <td>1</td>\n",
       "    </tr>\n",
       "    <tr>\n",
       "      <th>4</th>\n",
       "      <td>1</td>\n",
       "      <td>1</td>\n",
       "      <td>0</td>\n",
       "      <td>0</td>\n",
       "      <td>0</td>\n",
       "      <td>0</td>\n",
       "      <td>0</td>\n",
       "      <td>0</td>\n",
       "      <td>0</td>\n",
       "      <td>1</td>\n",
       "      <td>...</td>\n",
       "      <td>1</td>\n",
       "      <td>0</td>\n",
       "      <td>0</td>\n",
       "      <td>1</td>\n",
       "      <td>1</td>\n",
       "      <td>1</td>\n",
       "      <td>1</td>\n",
       "      <td>1</td>\n",
       "      <td>1</td>\n",
       "      <td>1</td>\n",
       "    </tr>\n",
       "    <tr>\n",
       "      <th>6</th>\n",
       "      <td>0</td>\n",
       "      <td>0</td>\n",
       "      <td>1</td>\n",
       "      <td>1</td>\n",
       "      <td>1</td>\n",
       "      <td>1</td>\n",
       "      <td>0</td>\n",
       "      <td>0</td>\n",
       "      <td>1</td>\n",
       "      <td>0</td>\n",
       "      <td>...</td>\n",
       "      <td>0</td>\n",
       "      <td>0</td>\n",
       "      <td>0</td>\n",
       "      <td>1</td>\n",
       "      <td>1</td>\n",
       "      <td>1</td>\n",
       "      <td>1</td>\n",
       "      <td>1</td>\n",
       "      <td>1</td>\n",
       "      <td>1</td>\n",
       "    </tr>\n",
       "    <tr>\n",
       "      <th>8</th>\n",
       "      <td>0</td>\n",
       "      <td>1</td>\n",
       "      <td>1</td>\n",
       "      <td>0</td>\n",
       "      <td>1</td>\n",
       "      <td>1</td>\n",
       "      <td>0</td>\n",
       "      <td>0</td>\n",
       "      <td>0</td>\n",
       "      <td>0</td>\n",
       "      <td>...</td>\n",
       "      <td>1</td>\n",
       "      <td>0</td>\n",
       "      <td>0</td>\n",
       "      <td>1</td>\n",
       "      <td>0</td>\n",
       "      <td>1</td>\n",
       "      <td>1</td>\n",
       "      <td>1</td>\n",
       "      <td>1</td>\n",
       "      <td>1</td>\n",
       "    </tr>\n",
       "    <tr>\n",
       "      <th>10</th>\n",
       "      <td>0</td>\n",
       "      <td>1</td>\n",
       "      <td>0</td>\n",
       "      <td>0</td>\n",
       "      <td>0</td>\n",
       "      <td>1</td>\n",
       "      <td>0</td>\n",
       "      <td>1</td>\n",
       "      <td>0</td>\n",
       "      <td>0</td>\n",
       "      <td>...</td>\n",
       "      <td>1</td>\n",
       "      <td>0</td>\n",
       "      <td>0</td>\n",
       "      <td>1</td>\n",
       "      <td>1</td>\n",
       "      <td>1</td>\n",
       "      <td>1</td>\n",
       "      <td>1</td>\n",
       "      <td>1</td>\n",
       "      <td>0</td>\n",
       "    </tr>\n",
       "  </tbody>\n",
       "</table>\n",
       "<p>5 rows × 42 columns</p>\n",
       "</div>"
      ],
      "text/plain": [
       "    Q13_Part_2_RStudio  Q21_Part_1_ggplot2  Q31_Part_5_Image Data  \\\n",
       "3                    0                   1                      0   \n",
       "4                    1                   1                      0   \n",
       "6                    0                   0                      1   \n",
       "8                    0                   1                      1   \n",
       "10                   0                   1                      0   \n",
       "\n",
       "    Q11_Part_1_Analyze and understand data to influence product or business decisions  \\\n",
       "3                                                   1                                   \n",
       "4                                                   0                                   \n",
       "6                                                   1                                   \n",
       "8                                                   0                                   \n",
       "10                                                  0                                   \n",
       "\n",
       "    Q38_Part_18_Medium Blog Posts  \\\n",
       "3                               0   \n",
       "4                               0   \n",
       "6                               1   \n",
       "8                               1   \n",
       "10                              0   \n",
       "\n",
       "    Q45_Part_5_When first exploring a new ML model or dataset  \\\n",
       "3                                                   0           \n",
       "4                                                   0           \n",
       "6                                                   1           \n",
       "8                                                   1           \n",
       "10                                                  1           \n",
       "\n",
       "    Q44_Part_2_Difficulty in identifying groups that are unfairly targeted  \\\n",
       "3                                                   0                        \n",
       "4                                                   0                        \n",
       "6                                                   0                        \n",
       "8                                                   0                        \n",
       "10                                                  0                        \n",
       "\n",
       "    Q49_Part_8_Define all random seeds  \\\n",
       "3                                    1   \n",
       "4                                    0   \n",
       "6                                    0   \n",
       "8                                    0   \n",
       "10                                   1   \n",
       "\n",
       "    Q49_Part_1_Share code on Github or a similar code-sharing repository  \\\n",
       "3                                                   0                      \n",
       "4                                                   0                      \n",
       "6                                                   1                      \n",
       "8                                                   0                      \n",
       "10                                                  0                      \n",
       "\n",
       "    Q47_Part_4_Plot decision boundaries            ...              \\\n",
       "3                                     0            ...               \n",
       "4                                     1            ...               \n",
       "6                                     0            ...               \n",
       "8                                     0            ...               \n",
       "10                                    0            ...               \n",
       "\n",
       "    Q31_Part_9_Text Data  Q35_Part_6_0.0  Q35_Part_6_0.0  \\\n",
       "3                      1               0               0   \n",
       "4                      1               0               0   \n",
       "6                      0               0               0   \n",
       "8                      1               0               0   \n",
       "10                     1               0               0   \n",
       "\n",
       "    Q19_Part_1_Scikit-Learn  Q47_Part_8_Plot predicted vs. actual results  \\\n",
       "3                         0                                             1   \n",
       "4                         1                                             1   \n",
       "6                         1                                             1   \n",
       "8                         1                                             0   \n",
       "10                        1                                             1   \n",
       "\n",
       "    Q41_Part_2_Very important  Q13_Part_1_Jupyter/IPython  \\\n",
       "3                           1                           0   \n",
       "4                           1                           1   \n",
       "6                           1                           1   \n",
       "8                           1                           1   \n",
       "10                          1                           1   \n",
       "\n",
       "    Q21_Part_2_Matplotlib  Q49_Part_7_Make sure the code is human-readable  \\\n",
       "3                       1                                                1   \n",
       "4                       1                                                1   \n",
       "6                       1                                                1   \n",
       "8                       1                                                1   \n",
       "10                      1                                                1   \n",
       "\n",
       "    Q41_Part_3_Very important  \n",
       "3                           1  \n",
       "4                           1  \n",
       "6                           1  \n",
       "8                           1  \n",
       "10                          0  \n",
       "\n",
       "[5 rows x 42 columns]"
      ]
     },
     "execution_count": 18,
     "metadata": {},
     "output_type": "execute_result"
    }
   ],
   "source": [
    "#then, we can make a new data ser with these features\n",
    "cluster1=encoded_data.iloc[clus_index==1][feat1]\n",
    "cluster1.head()"
   ]
  },
  {
   "cell_type": "markdown",
   "metadata": {},
   "source": [
    " A quick value count on the most important feature, could shine some light on the statistical differences between both clusters."
   ]
  },
  {
   "cell_type": "code",
   "execution_count": 200,
   "metadata": {},
   "outputs": [
    {
     "data": {
      "text/plain": [
       "0    9195\n",
       "1     489\n",
       "Name: Q41_Part_3_Very important, dtype: int64"
      ]
     },
     "execution_count": 200,
     "metadata": {},
     "output_type": "execute_result"
    }
   ],
   "source": [
    "cluster0['Q41_Part_3_Very important'].value_counts()"
   ]
  },
  {
   "cell_type": "code",
   "execution_count": 201,
   "metadata": {},
   "outputs": [
    {
     "data": {
      "text/plain": [
       "1    9742\n",
       "0    4433\n",
       "Name: Q41_Part_3_Very important, dtype: int64"
      ]
     },
     "execution_count": 201,
     "metadata": {},
     "output_type": "execute_result"
    }
   ],
   "source": [
    "cluster1['Q41_Part_3_Very important'].value_counts()"
   ]
  },
  {
   "cell_type": "markdown",
   "metadata": {},
   "source": [
    "There is a clear tendency in cluster 0. The majority of the answers in this clusters is 0, which means that the option was not selected. On the other hand, most cluster 1 members, chose 1 (equivalent to saying that it is very important), but a significant portion of them also chose 0. This ambiguity is solved thorugh the use of the other features. By summing over the columns of the reduced data set, we can estimate the amount of people that answered each question positively.\n"
   ]
  },
  {
   "cell_type": "code",
   "execution_count": 22,
   "metadata": {},
   "outputs": [
    {
     "name": "stdout",
     "output_type": "stream",
     "text": [
      ".\n"
     ]
    },
    {
     "data": {
      "image/png": "[encoded data removed]",
      "text/plain": [
       "<Figure size 936x360 with 2 Axes>"
      ]
     },
     "metadata": {},
     "output_type": "display_data"
    }
   ],
   "source": [
    "hist0=np.sum(cluster0, axis=0)\n",
    "hist1=np.sum(cluster1, axis=0)\n",
    "fig, ax = plt.subplots(1,2, figsize=(13,5))\n",
    "ax[0].bar(np.arange(1, len(hist0)+1),hist0)\n",
    "ax[0].set_title('Cluster 0')\n",
    "ax[1].bar(np.arange(1, len(hist1)+1),hist1)\n",
    "ax[1].set_title('Cluster 1')\n",
    "\n",
    "print('.')"
   ]
  },
  {
   "cell_type": "markdown",
   "metadata": {},
   "source": [
    "So in general cluster zero has many more persons who either didn't choose an answer or were not show a question (given that missing elemnts were given a -1 value) \n",
    "\n",
    "We can then take a look at the maximum values in both clusters to further understand the difference between\n",
    "the two groups"
   ]
  },
  {
   "cell_type": "code",
   "execution_count": 24,
   "metadata": {},
   "outputs": [
    {
     "name": "stdout",
     "output_type": "stream",
     "text": [
      "Max values in cluster 0\n",
      "Index(['Q18_Python'], dtype='object')\n",
      "Max values in cluster 1\n",
      "Index(['Q16_Part_1_Python'], dtype='object')\n"
     ]
    }
   ],
   "source": [
    "max0=np.where(max(hist0)==hist0)\n",
    "min0=np.where(min(hist0)==hist0)\n",
    "\n",
    "max1=np.where(max(hist1)==hist1)\n",
    "min1=np.where(min(hist1)==hist1)\n",
    "\n",
    "print('Max values in cluster 0')\n",
    "print(cluster0.keys()[max0])\n",
    "\n",
    "print('Max values in cluster 1')\n",
    "print(cluster1.keys()[max1])\n"
   ]
  },
  {
   "cell_type": "code",
   "execution_count": 25,
   "metadata": {},
   "outputs": [
    {
     "name": "stdout",
     "output_type": "stream",
     "text": [
      "Do you use python on a regular basis? -Cluster 0\n",
      "0    6626\n",
      "1    3058\n",
      "Name: Q16_Part_1_Python, dtype: int64\n",
      "Do you use python on a regular basis? -Cluster 1\n",
      "1    12653\n",
      "0     1522\n",
      "Name: Q16_Part_1_Python, dtype: int64\n",
      "Would you recomend Python to an  aspiring data scientist? -Cluster0\n",
      "0    6597\n",
      "1    3087\n",
      "Name: Q18_Python, dtype: int64\n",
      "Would you recomend Python to an  aspiring data scientist? -Cluster1\n",
      "1    11094\n",
      "0     3081\n",
      "Name: Q18_Python, dtype: int64\n"
     ]
    }
   ],
   "source": [
    "print('Do you use python on a regular basis? -Cluster 0')\n",
    "print(cluster0['Q16_Part_1_Python'].value_counts())\n",
    "\n",
    "print('Do you use python on a regular basis? -Cluster 1')\n",
    "print(cluster1['Q16_Part_1_Python'].value_counts())\n",
    "\n",
    "print('Would you recomend Python to an  aspiring data scientist? -Cluster0')\n",
    "print(cluster0['Q18_Python'].value_counts())\n",
    "\n",
    "print('Would you recomend Python to an  aspiring data scientist? -Cluster1')\n",
    "print(cluster1['Q18_Python'].value_counts())\n"
   ]
  },
  {
   "cell_type": "markdown",
   "metadata": {},
   "source": [
    "So it seems that cluster 1 is composed mainly of people with a mostly good opinion about python as a programing language, while those in cluster 0 do not. Taking another look at the important features used in the SVM model classification of both clusters, we find that most of the important questions in differentiating both clusters have to do with types of data, how they area manipulated and interpreted and programing languages. In other words, ML related questions. We can  then use this knowledge to go back to the original data set and look at some of these questions for each cluster"
   ]
  },
  {
   "cell_type": "code",
   "execution_count": 126,
   "metadata": {},
   "outputs": [],
   "source": [
    "#gets tsome relevant questions\n",
    "q_keys=[mkeys[372],mkeys[355], mkeys[342], mkeys[263],mkeys[108],mkeys[124],mkeys[129], mkeys[128], \n",
    "        mkeys[86],mkeys[84],]\n",
    "questions=multiplec.head()[q_keys].iloc[0,:]\n",
    "data0=multi2.iloc[clus_index==0][q_keys]\n",
    "data0 = data0.fillna(value=-1)\n",
    "\n",
    "data1=multi2.iloc[clus_index==1][q_keys]\n",
    "data1 = data1.fillna(value=-1)"
   ]
  },
  {
   "cell_type": "markdown",
   "metadata": {},
   "source": [
    "Question labels are as follows:"
   ]
  },
  {
   "cell_type": "code",
   "execution_count": 114,
   "metadata": {},
   "outputs": [
    {
     "name": "stdout",
     "output_type": "stream",
     "text": [
      "Q48    Do you consider ML models to be \"black boxes\" ...\n",
      "Q46    Approximately what percent of your data projec...\n",
      "Q43    Approximately what percent of your data projec...\n",
      "Q32    What is the type of data that you currently in...\n",
      "Q20    Of the choices that you selected in the previo...\n",
      "Q22    Of the choices that you selected in the previo...\n",
      "Q26     Do you consider yourself to be a data scientist?\n",
      "Q25    For how many years have you used machine learn...\n",
      "Q18    What programming language would you recommend ...\n",
      "Q17    What specific programming language do you use ...\n",
      "Name: 0, dtype: object\n"
     ]
    }
   ],
   "source": [
    "print(questions)"
   ]
  },
  {
   "cell_type": "markdown",
   "metadata": {},
   "source": [
    "We can then analyse the results quickly by counting"
   ]
  },
  {
   "cell_type": "code",
   "execution_count": 199,
   "metadata": {},
   "outputs": [
    {
     "name": "stdout",
     "output_type": "stream",
     "text": [
      "Opininons about data and programing languages- Cluster 0\n",
      ".\n",
      "Do you consider ML models to be \"black boxes\" with outputs that are difficult or impossible to explain?\n",
      "_____  -1\n",
      "_____  I do not know; I have no opinion on the matter\n",
      ".\n",
      "Approximately what percent of your data projects involve exploring model insights?\n",
      "_____  -1\n",
      "_____  0\n",
      ".\n",
      "Approximately what percent of your data projects involved exploring unfair bias in the dataset and/or algorithm?\n",
      "_____  -1\n",
      "_____  0\n",
      ".\n",
      "What is the type of data that you currently interact with most often at work or school? - Selected Choice\n",
      "_____  -1\n",
      "_____  Numerical Data\n",
      ".\n",
      "Of the choices that you selected in the previous question, which ML library have you used the most? - Selected Choice\n",
      "_____  -1\n",
      "_____  Scikit-Learn\n",
      ".\n",
      "Of the choices that you selected in the previous question, which specific data visualization library or tool have you used the most? - Selected Choice\n",
      "_____  -1\n",
      "_____  Matplotlib\n",
      ".\n",
      "Do you consider yourself to be a data scientist?\n",
      "_____  -1\n",
      "_____  Maybe\n",
      ".\n",
      "For how many years have you used machine learning methods (at work or in school)?\n",
      "_____  -1\n",
      "_____  < 1 year\n",
      ".\n",
      "What programming language would you recommend an aspiring data scientist to learn first? - Selected Choice\n",
      "_____  -1\n",
      "_____  Python\n",
      ".\n",
      "What specific programming language do you use most often? - Selected Choice\n",
      "_____  -1\n",
      "_____  Python\n",
      ".\n"
     ]
    }
   ],
   "source": [
    "print('Opininons about data and programing languages- Cluster 0')\n",
    "print('.')\n",
    "i=0\n",
    "for k in q_keys:\n",
    "    col=data0[k]\n",
    "    print(questions[i])\n",
    "    print('_____ ', col.value_counts().keys()[0])\n",
    "    print('_____ ',col.value_counts().keys()[1])\n",
    "    print('.')\n",
    "    i+=1"
   ]
  },
  {
   "cell_type": "code",
   "execution_count": 198,
   "metadata": {},
   "outputs": [
    {
     "name": "stdout",
     "output_type": "stream",
     "text": [
      "Opininons about data and programing languages- Cluster 1\n",
      ".\n",
      "Do you consider ML models to be \"black boxes\" with outputs that are difficult or impossible to explain?\n",
      "_____  I am confident that I can understand and explain the outputs of many but not all ML models\n",
      "_____  I view ML models as \"black boxes\" but I am confident that experts are able to explain model outputs\n",
      ".\n",
      "Approximately what percent of your data projects involve exploring model insights?\n",
      "_____  10-20\n",
      "_____  0-10\n",
      ".\n",
      "Approximately what percent of your data projects involved exploring unfair bias in the dataset and/or algorithm?\n",
      "_____  0\n",
      "_____  0-10\n",
      ".\n",
      "What is the type of data that you currently interact with most often at work or school? - Selected Choice\n",
      "_____  Numerical Data\n",
      "_____  Tabular Data\n",
      ".\n",
      "Of the choices that you selected in the previous question, which ML library have you used the most? - Selected Choice\n",
      "_____  Scikit-Learn\n",
      "_____  -1\n",
      ".\n",
      "Of the choices that you selected in the previous question, which specific data visualization library or tool have you used the most? - Selected Choice\n",
      "_____  Matplotlib\n",
      "_____  -1\n",
      ".\n",
      "Do you consider yourself to be a data scientist?\n",
      "_____  Probably yes\n",
      "_____  Definitely yes\n",
      ".\n",
      "For how many years have you used machine learning methods (at work or in school)?\n",
      "_____  < 1 year\n",
      "_____  1-2 years\n",
      ".\n",
      "What programming language would you recommend an aspiring data scientist to learn first? - Selected Choice\n",
      "_____  Python\n",
      "_____  R\n",
      ".\n",
      "What specific programming language do you use most often? - Selected Choice\n",
      "_____  Python\n",
      "_____  -1\n",
      ".\n"
     ]
    }
   ],
   "source": [
    "print('Opininons about data and programing languages- Cluster 1')\n",
    "print('.')\n",
    "i=0\n",
    "for k in q_keys:\n",
    "    col=data1[k]\n",
    "    print(questions[i])\n",
    "    print('_____ ', col.value_counts().keys()[0])\n",
    "    print('_____ ',col.value_counts().keys()[1])\n",
    "    print('.')\n",
    "    i+=1"
   ]
  },
  {
   "cell_type": "markdown",
   "metadata": {},
   "source": [
    "This results imply that the cluster 1 is composed of people with more\n",
    "experience/ training that those in cluster 0. In addition, it would seem that, those in cluster 0 where not presented with a lot of quetions about types of data and programing languages (this is infered from the large number of -1 answers). It is worth noting that python is popular with experienced and inexperienced programers. Another interesting insight is that most people devote little time in interpreting their models, meaning that black box threatment of ML algorithms is very prominent in the medium.\n",
    "\n",
    "It would be expected that a 3-means clustering would build on these results to further separate kagglers, who responded the 2018 ML survey\n"
   ]
  }
 ],
 "metadata": {
  "kernelspec": {
   "display_name": "Python 3",
   "language": "python",
   "name": "python3"
  },
  "language_info": {
   "codemirror_mode": {
    "name": "ipython",
    "version": 3
   },
   "file_extension": ".py",
   "mimetype": "text/x-python",
   "name": "python",
   "nbconvert_exporter": "python",
   "pygments_lexer": "ipython3",
   "version": "3.6.5"
  }
 },
 "nbformat": 4,
 "nbformat_minor": 2
}
