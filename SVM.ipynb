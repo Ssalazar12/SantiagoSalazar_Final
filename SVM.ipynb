{
 "cells": [
  {
   "cell_type": "code",
   "execution_count": 1,
   "metadata": {},
   "outputs": [],
   "source": [
    "import pandas as pd\n",
    "import numpy as np\n",
    "import matplotlib.pyplot as plt\n",
    "from sklearn.cluster import KMeans\n",
    "from sklearn.decomposition import PCA\n",
    "from sklearn.multiclass import OneVsRestClassifier\n",
    "from sklearn.svm import SVC\n",
    "from sklearn.model_selection import train_test_split"
   ]
  },
  {
   "cell_type": "code",
   "execution_count": 2,
   "metadata": {},
   "outputs": [
    {
     "name": "stderr",
     "output_type": "stream",
     "text": [
      "/Users/rasputin/anaconda3/lib/python3.6/site-packages/IPython/core/interactiveshell.py:2785: DtypeWarning: Columns (0,2,8,10,21,23,24,25,26,27,28,44,56,64,83,85,87,107,109,123,125,150,157,172,174,194,210,218,219,223,246,249,262,264,276,277,278,279,280,281,282,283,284,285,286,287,288,289,290,304,306,325,326,329,341,368,371,384,385,389,390,391,393,394) have mixed types. Specify dtype option on import or set low_memory=False.\n",
      "  interactivity=interactivity, compiler=compiler, result=result)\n"
     ]
    }
   ],
   "source": [
    "#we are using suport vector machines (SVMs) to find out what influences black box threatment of ML algorithms\n",
    "\n",
    "multiplec = pd.read_csv('multipleChoiceResponses.csv')"
   ]
  },
  {
   "cell_type": "code",
   "execution_count": 3,
   "metadata": {},
   "outputs": [],
   "source": [
    "mkeys=multiplec.keys()\n",
    "#excludes the columns corresponding to text explaining\n",
    "multiplec=multiplec.drop([ mkeys[2], mkeys[8], mkeys[10], mkeys[44], mkeys[56], mkeys[64], mkeys[83], mkeys[85], \n",
    "                       mkeys[87], mkeys[107], mkeys[109], mkeys[123],mkeys[125], mkeys[150], \n",
    "                          mkeys[194], mkeys[223], mkeys[249],mkeys[262], mkeys[264],mkeys[276],\n",
    "                      mkeys[304],mkeys[306], mkeys[329], mkeys[341], mkeys[371], mkeys[385], mkeys[394]],axis=1)\n",
    "multi2=multiplec.iloc[1:,:]"
   ]
  },
  {
   "cell_type": "code",
   "execution_count": 4,
   "metadata": {},
   "outputs": [],
   "source": [
    "#since the first column is actually composed of integers, we do not include it in the encoding\n",
    "\n",
    "obj_df = multi2.select_dtypes(include=['object']).copy()\n",
    "obj_df = obj_df.drop([mkeys[0], mkeys[372]],axis=1)"
   ]
  },
  {
   "cell_type": "code",
   "execution_count": 5,
   "metadata": {},
   "outputs": [],
   "source": [
    "#One-Hot encodes the object columns so the cathegorial variables can be passed to\n",
    "#the algorithms\n",
    "obj_df=pd.get_dummies(obj_df)\n",
    "labels=pd.get_dummies(multi2[mkeys[372]])\n",
    "encoded_data = pd.concat([multi2.iloc[:,0],obj_df,multi2.select_dtypes(exclude=['object']).copy()],axis=1)\n"
   ]
  },
  {
   "cell_type": "code",
   "execution_count": 6,
   "metadata": {},
   "outputs": [
    {
     "data": {
      "text/html": [
       "<div>\n",
       "<style scoped>\n",
       "    .dataframe tbody tr th:only-of-type {\n",
       "        vertical-align: middle;\n",
       "    }\n",
       "\n",
       "    .dataframe tbody tr th {\n",
       "        vertical-align: top;\n",
       "    }\n",
       "\n",
       "    .dataframe thead th {\n",
       "        text-align: right;\n",
       "    }\n",
       "</style>\n",
       "<table border=\"1\" class=\"dataframe\">\n",
       "  <thead>\n",
       "    <tr style=\"text-align: right;\">\n",
       "      <th></th>\n",
       "      <th>Time from Start to Finish (seconds)</th>\n",
       "      <th>Q1_Female</th>\n",
       "      <th>Q1_Male</th>\n",
       "      <th>Q1_Prefer not to say</th>\n",
       "      <th>Q1_Prefer to self-describe</th>\n",
       "      <th>Q2_18-21</th>\n",
       "      <th>Q2_22-24</th>\n",
       "      <th>Q2_25-29</th>\n",
       "      <th>Q2_30-34</th>\n",
       "      <th>Q2_35-39</th>\n",
       "      <th>...</th>\n",
       "      <th>Q49_Part_11_None/I do not make my work easy for others to reproduce</th>\n",
       "      <th>Q49_Part_12_Other</th>\n",
       "      <th>Q50_Part_1_Too expensive</th>\n",
       "      <th>Q50_Part_2_Too time-consuming</th>\n",
       "      <th>Q50_Part_3_Requires too much technical knowledge</th>\n",
       "      <th>Q50_Part_4_Afraid that others will use my work without giving proper credit</th>\n",
       "      <th>Q50_Part_5_Not enough incentives to share my work</th>\n",
       "      <th>Q50_Part_6_I had never considered making my work easier for others to reproduce</th>\n",
       "      <th>Q50_Part_7_None of these reasons apply to me</th>\n",
       "      <th>Q50_Part_8_Other</th>\n",
       "    </tr>\n",
       "  </thead>\n",
       "  <tbody>\n",
       "    <tr>\n",
       "      <th>1</th>\n",
       "      <td>710</td>\n",
       "      <td>1</td>\n",
       "      <td>0</td>\n",
       "      <td>0</td>\n",
       "      <td>0</td>\n",
       "      <td>0</td>\n",
       "      <td>0</td>\n",
       "      <td>0</td>\n",
       "      <td>0</td>\n",
       "      <td>0</td>\n",
       "      <td>...</td>\n",
       "      <td>0</td>\n",
       "      <td>0</td>\n",
       "      <td>0</td>\n",
       "      <td>0</td>\n",
       "      <td>0</td>\n",
       "      <td>0</td>\n",
       "      <td>0</td>\n",
       "      <td>0</td>\n",
       "      <td>0</td>\n",
       "      <td>0</td>\n",
       "    </tr>\n",
       "    <tr>\n",
       "      <th>2</th>\n",
       "      <td>434</td>\n",
       "      <td>0</td>\n",
       "      <td>1</td>\n",
       "      <td>0</td>\n",
       "      <td>0</td>\n",
       "      <td>0</td>\n",
       "      <td>0</td>\n",
       "      <td>0</td>\n",
       "      <td>1</td>\n",
       "      <td>0</td>\n",
       "      <td>...</td>\n",
       "      <td>0</td>\n",
       "      <td>0</td>\n",
       "      <td>0</td>\n",
       "      <td>0</td>\n",
       "      <td>0</td>\n",
       "      <td>0</td>\n",
       "      <td>0</td>\n",
       "      <td>0</td>\n",
       "      <td>0</td>\n",
       "      <td>0</td>\n",
       "    </tr>\n",
       "    <tr>\n",
       "      <th>3</th>\n",
       "      <td>718</td>\n",
       "      <td>1</td>\n",
       "      <td>0</td>\n",
       "      <td>0</td>\n",
       "      <td>0</td>\n",
       "      <td>0</td>\n",
       "      <td>0</td>\n",
       "      <td>0</td>\n",
       "      <td>1</td>\n",
       "      <td>0</td>\n",
       "      <td>...</td>\n",
       "      <td>0</td>\n",
       "      <td>0</td>\n",
       "      <td>0</td>\n",
       "      <td>1</td>\n",
       "      <td>0</td>\n",
       "      <td>0</td>\n",
       "      <td>0</td>\n",
       "      <td>0</td>\n",
       "      <td>0</td>\n",
       "      <td>0</td>\n",
       "    </tr>\n",
       "    <tr>\n",
       "      <th>4</th>\n",
       "      <td>621</td>\n",
       "      <td>0</td>\n",
       "      <td>1</td>\n",
       "      <td>0</td>\n",
       "      <td>0</td>\n",
       "      <td>0</td>\n",
       "      <td>0</td>\n",
       "      <td>0</td>\n",
       "      <td>0</td>\n",
       "      <td>1</td>\n",
       "      <td>...</td>\n",
       "      <td>0</td>\n",
       "      <td>0</td>\n",
       "      <td>0</td>\n",
       "      <td>0</td>\n",
       "      <td>1</td>\n",
       "      <td>0</td>\n",
       "      <td>1</td>\n",
       "      <td>0</td>\n",
       "      <td>0</td>\n",
       "      <td>0</td>\n",
       "    </tr>\n",
       "    <tr>\n",
       "      <th>5</th>\n",
       "      <td>731</td>\n",
       "      <td>0</td>\n",
       "      <td>1</td>\n",
       "      <td>0</td>\n",
       "      <td>0</td>\n",
       "      <td>0</td>\n",
       "      <td>1</td>\n",
       "      <td>0</td>\n",
       "      <td>0</td>\n",
       "      <td>0</td>\n",
       "      <td>...</td>\n",
       "      <td>0</td>\n",
       "      <td>0</td>\n",
       "      <td>0</td>\n",
       "      <td>1</td>\n",
       "      <td>0</td>\n",
       "      <td>0</td>\n",
       "      <td>1</td>\n",
       "      <td>0</td>\n",
       "      <td>0</td>\n",
       "      <td>0</td>\n",
       "    </tr>\n",
       "  </tbody>\n",
       "</table>\n",
       "<p>5 rows × 10347 columns</p>\n",
       "</div>"
      ],
      "text/plain": [
       "  Time from Start to Finish (seconds)  Q1_Female  Q1_Male  \\\n",
       "1                                 710          1        0   \n",
       "2                                 434          0        1   \n",
       "3                                 718          1        0   \n",
       "4                                 621          0        1   \n",
       "5                                 731          0        1   \n",
       "\n",
       "   Q1_Prefer not to say  Q1_Prefer to self-describe  Q2_18-21  Q2_22-24  \\\n",
       "1                     0                           0         0         0   \n",
       "2                     0                           0         0         0   \n",
       "3                     0                           0         0         0   \n",
       "4                     0                           0         0         0   \n",
       "5                     0                           0         0         1   \n",
       "\n",
       "   Q2_25-29  Q2_30-34  Q2_35-39        ...         \\\n",
       "1         0         0         0        ...          \n",
       "2         0         1         0        ...          \n",
       "3         0         1         0        ...          \n",
       "4         0         0         1        ...          \n",
       "5         0         0         0        ...          \n",
       "\n",
       "   Q49_Part_11_None/I do not make my work easy for others to reproduce  \\\n",
       "1                                                  0                     \n",
       "2                                                  0                     \n",
       "3                                                  0                     \n",
       "4                                                  0                     \n",
       "5                                                  0                     \n",
       "\n",
       "   Q49_Part_12_Other  Q50_Part_1_Too expensive  Q50_Part_2_Too time-consuming  \\\n",
       "1                  0                         0                              0   \n",
       "2                  0                         0                              0   \n",
       "3                  0                         0                              1   \n",
       "4                  0                         0                              0   \n",
       "5                  0                         0                              1   \n",
       "\n",
       "   Q50_Part_3_Requires too much technical knowledge  \\\n",
       "1                                                 0   \n",
       "2                                                 0   \n",
       "3                                                 0   \n",
       "4                                                 1   \n",
       "5                                                 0   \n",
       "\n",
       "   Q50_Part_4_Afraid that others will use my work without giving proper credit  \\\n",
       "1                                                  0                             \n",
       "2                                                  0                             \n",
       "3                                                  0                             \n",
       "4                                                  0                             \n",
       "5                                                  0                             \n",
       "\n",
       "   Q50_Part_5_Not enough incentives to share my work  \\\n",
       "1                                                  0   \n",
       "2                                                  0   \n",
       "3                                                  0   \n",
       "4                                                  1   \n",
       "5                                                  1   \n",
       "\n",
       "   Q50_Part_6_I had never considered making my work easier for others to reproduce  \\\n",
       "1                                                  0                                 \n",
       "2                                                  0                                 \n",
       "3                                                  0                                 \n",
       "4                                                  0                                 \n",
       "5                                                  0                                 \n",
       "\n",
       "   Q50_Part_7_None of these reasons apply to me  Q50_Part_8_Other  \n",
       "1                                             0                 0  \n",
       "2                                             0                 0  \n",
       "3                                             0                 0  \n",
       "4                                             0                 0  \n",
       "5                                             0                 0  \n",
       "\n",
       "[5 rows x 10347 columns]"
      ]
     },
     "execution_count": 6,
     "metadata": {},
     "output_type": "execute_result"
    }
   ],
   "source": [
    "#changes nan values two -1\n",
    "encoded_data = encoded_data.fillna(value=-1)\n",
    "encoded_data.head()"
   ]
  },
  {
   "cell_type": "code",
   "execution_count": 7,
   "metadata": {},
   "outputs": [],
   "source": [
    "#we are going to use PCA for the purpose of dimentionality reduction in order to reduce computation time\n",
    "data_proj = pd.DataFrame(PCA(n_components=10).fit_transform(encoded_data))\n",
    "#data_proj =encoded_data"
   ]
  },
  {
   "cell_type": "code",
   "execution_count": 8,
   "metadata": {},
   "outputs": [],
   "source": [
    "X_train, X_test, y_train, y_test = train_test_split(data_proj, labels, test_size=0.33)"
   ]
  },
  {
   "cell_type": "code",
   "execution_count": 9,
   "metadata": {},
   "outputs": [
    {
     "name": "stdout",
     "output_type": "stream",
     "text": [
      "yeeet\n",
      "0.5768351536703074\n"
     ]
    }
   ],
   "source": [
    "#uses a one vs rest classifier: Each class fits its own support vector machine and they compete\n",
    "#with each set\n",
    "classif = OneVsRestClassifier(SVC(kernel='linear'))\n",
    "classif.fit(X_train, y_train)\n",
    "sc=classif.score(X_test,y_test)\n",
    "print('yeeet')\n",
    "print(sc)"
   ]
  },
  {
   "cell_type": "code",
   "execution_count": 10,
   "metadata": {},
   "outputs": [
    {
     "name": "stdout",
     "output_type": "stream",
     "text": [
      "0\n",
      "1\n",
      "2\n",
      "3\n"
     ]
    },
    {
     "data": {
      "image/png": "[encoded data removed]",
      "text/plain": [
       "<Figure size 432x288 with 1 Axes>"
      ]
     },
     "metadata": {},
     "output_type": "display_data"
    }
   ],
   "source": [
    "#plotting \n",
    "from mpl_toolkits.mplot3d import Axes3D \n",
    "n_c=4 #number of classes\n",
    "\n",
    "for i in range(0,4):\n",
    "    current=np.where(np.asarray(labels)[:, i])\n",
    "    plt.scatter(np.asarray(data_proj)[current, 0], np.asarray(data_proj)[current, 1])\n",
    "    print(i)\n"
   ]
  },
  {
   "cell_type": "code",
   "execution_count": 11,
   "metadata": {},
   "outputs": [
    {
     "ename": "NameError",
     "evalue": "name 'K_fold' is not defined",
     "output_type": "error",
     "traceback": [
      "\u001b[0;31m---------------------------------------------------------------------------\u001b[0m",
      "\u001b[0;31mNameError\u001b[0m                                 Traceback (most recent call last)",
      "\u001b[0;32m<ipython-input-11-32ccfa326cc2>\u001b[0m in \u001b[0;36m<module>\u001b[0;34m()\u001b[0m\n\u001b[0;32m----> 1\u001b[0;31m \u001b[0mK_fold\u001b[0m\u001b[0;34m(\u001b[0m\u001b[0;36m7\u001b[0m\u001b[0;34m,\u001b[0m \u001b[0;34m'rbf'\u001b[0m\u001b[0;34m,\u001b[0m\u001b[0mdata_proj\u001b[0m\u001b[0;34m,\u001b[0m \u001b[0mlabels\u001b[0m \u001b[0;34m)\u001b[0m\u001b[0;34m\u001b[0m\u001b[0m\n\u001b[0m",
      "\u001b[0;31mNameError\u001b[0m: name 'K_fold' is not defined"
     ]
    }
   ],
   "source": [
    "K_fold(7, 'rbf',data_proj, labels )"
   ]
  },
  {
   "cell_type": "code",
   "execution_count": null,
   "metadata": {},
   "outputs": [],
   "source": []
  },
  {
   "cell_type": "code",
   "execution_count": null,
   "metadata": {},
   "outputs": [],
   "source": []
  }
 ],
 "metadata": {
  "kernelspec": {
   "display_name": "Python 3",
   "language": "python",
   "name": "python3"
  }
 },
 "nbformat": 4,
 "nbformat_minor": 2
}
